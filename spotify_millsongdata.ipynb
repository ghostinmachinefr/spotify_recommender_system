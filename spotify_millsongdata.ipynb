{
 "cells": [
  {
   "cell_type": "code",
   "execution_count": 69,
   "id": "171151e3-2b77-4a83-b589-7094ac871b8f",
   "metadata": {},
   "outputs": [],
   "source": [
    "import pandas as pd"
   ]
  },
  {
   "cell_type": "code",
   "execution_count": 70,
   "id": "627243db-72e8-417b-b5b6-d1417d1bf488",
   "metadata": {},
   "outputs": [],
   "source": [
    "df=pd.read_csv(\"/Users/avantikagupta/spotify recommender system /spotify_millsongdata.csv\")\n"
   ]
  },
  {
   "cell_type": "code",
   "execution_count": 71,
   "id": "30913250-6f26-4003-8812-f67afa5a3c8b",
   "metadata": {},
   "outputs": [],
   "source": [
    "df=df.sample(5000).drop('link',axis=1).reset_index(drop=True)"
   ]
  },
  {
   "cell_type": "code",
   "execution_count": 72,
   "id": "715b9d2c-383f-4848-b276-7642b6124d40",
   "metadata": {},
   "outputs": [
    {
     "data": {
      "text/html": [
       "<div>\n",
       "<style scoped>\n",
       "    .dataframe tbody tr th:only-of-type {\n",
       "        vertical-align: middle;\n",
       "    }\n",
       "\n",
       "    .dataframe tbody tr th {\n",
       "        vertical-align: top;\n",
       "    }\n",
       "\n",
       "    .dataframe thead th {\n",
       "        text-align: right;\n",
       "    }\n",
       "</style>\n",
       "<table border=\"1\" class=\"dataframe\">\n",
       "  <thead>\n",
       "    <tr style=\"text-align: right;\">\n",
       "      <th></th>\n",
       "      <th>artist</th>\n",
       "      <th>song</th>\n",
       "      <th>text</th>\n",
       "    </tr>\n",
       "  </thead>\n",
       "  <tbody>\n",
       "    <tr>\n",
       "      <th>0</th>\n",
       "      <td>Neil Sedaka</td>\n",
       "      <td>I Am A Song</td>\n",
       "      <td>I AM A SONG  \\r\\n  \\r\\nI'm a song and I've wai...</td>\n",
       "    </tr>\n",
       "    <tr>\n",
       "      <th>1</th>\n",
       "      <td>Used</td>\n",
       "      <td>Slit Your Own Throat</td>\n",
       "      <td>I gotta take this moment  \\r\\nJust to push you...</td>\n",
       "    </tr>\n",
       "    <tr>\n",
       "      <th>2</th>\n",
       "      <td>Hooverphonic</td>\n",
       "      <td>Someone</td>\n",
       "      <td>And through all Alex's wondrous  \\r\\nChildhood...</td>\n",
       "    </tr>\n",
       "    <tr>\n",
       "      <th>3</th>\n",
       "      <td>Phil Collins</td>\n",
       "      <td>There's A Place For Us</td>\n",
       "      <td>'There's a place for us, somewhere a time and ...</td>\n",
       "    </tr>\n",
       "    <tr>\n",
       "      <th>4</th>\n",
       "      <td>Conway Twitty</td>\n",
       "      <td>Call It What You Want To</td>\n",
       "      <td>You tell me that it's over  \\r\\nI'm just someo...</td>\n",
       "    </tr>\n",
       "  </tbody>\n",
       "</table>\n",
       "</div>"
      ],
      "text/plain": [
       "          artist                      song  \\\n",
       "0    Neil Sedaka               I Am A Song   \n",
       "1           Used      Slit Your Own Throat   \n",
       "2   Hooverphonic                   Someone   \n",
       "3   Phil Collins    There's A Place For Us   \n",
       "4  Conway Twitty  Call It What You Want To   \n",
       "\n",
       "                                                text  \n",
       "0  I AM A SONG  \\r\\n  \\r\\nI'm a song and I've wai...  \n",
       "1  I gotta take this moment  \\r\\nJust to push you...  \n",
       "2  And through all Alex's wondrous  \\r\\nChildhood...  \n",
       "3  'There's a place for us, somewhere a time and ...  \n",
       "4  You tell me that it's over  \\r\\nI'm just someo...  "
      ]
     },
     "execution_count": 72,
     "metadata": {},
     "output_type": "execute_result"
    }
   ],
   "source": [
    "df.head(5)"
   ]
  },
  {
   "cell_type": "code",
   "execution_count": 73,
   "id": "d071c49b-59d1-4df5-97c9-cd7fdcf26272",
   "metadata": {},
   "outputs": [
    {
     "data": {
      "text/html": [
       "<div>\n",
       "<style scoped>\n",
       "    .dataframe tbody tr th:only-of-type {\n",
       "        vertical-align: middle;\n",
       "    }\n",
       "\n",
       "    .dataframe tbody tr th {\n",
       "        vertical-align: top;\n",
       "    }\n",
       "\n",
       "    .dataframe thead th {\n",
       "        text-align: right;\n",
       "    }\n",
       "</style>\n",
       "<table border=\"1\" class=\"dataframe\">\n",
       "  <thead>\n",
       "    <tr style=\"text-align: right;\">\n",
       "      <th></th>\n",
       "      <th>artist</th>\n",
       "      <th>song</th>\n",
       "      <th>text</th>\n",
       "    </tr>\n",
       "  </thead>\n",
       "  <tbody>\n",
       "    <tr>\n",
       "      <th>4995</th>\n",
       "      <td>W.A.S.P.</td>\n",
       "      <td>Running Wild In The Streets</td>\n",
       "      <td>I'm looking to beat hell, looks like I've got ...</td>\n",
       "    </tr>\n",
       "    <tr>\n",
       "      <th>4996</th>\n",
       "      <td>Queen Latifah</td>\n",
       "      <td>Don't Cry Baby</td>\n",
       "      <td>Don't cry, don't cry, baby  \\r\\nDon't cry, bab...</td>\n",
       "    </tr>\n",
       "    <tr>\n",
       "      <th>4997</th>\n",
       "      <td>Linkin Park</td>\n",
       "      <td>Not Alone</td>\n",
       "      <td>I break down, fear is sinking in  \\r\\nThe cold...</td>\n",
       "    </tr>\n",
       "    <tr>\n",
       "      <th>4998</th>\n",
       "      <td>Tori Amos</td>\n",
       "      <td>Famous Blue Raincoat</td>\n",
       "      <td>It's four in the morning, the end of December ...</td>\n",
       "    </tr>\n",
       "    <tr>\n",
       "      <th>4999</th>\n",
       "      <td>Oasis</td>\n",
       "      <td>Ain't Got Nothin'</td>\n",
       "      <td>They got nothing on me anymore,  \\r\\nThey got ...</td>\n",
       "    </tr>\n",
       "  </tbody>\n",
       "</table>\n",
       "</div>"
      ],
      "text/plain": [
       "             artist                         song  \\\n",
       "4995       W.A.S.P.  Running Wild In The Streets   \n",
       "4996  Queen Latifah               Don't Cry Baby   \n",
       "4997    Linkin Park                    Not Alone   \n",
       "4998      Tori Amos         Famous Blue Raincoat   \n",
       "4999          Oasis            Ain't Got Nothin'   \n",
       "\n",
       "                                                   text  \n",
       "4995  I'm looking to beat hell, looks like I've got ...  \n",
       "4996  Don't cry, don't cry, baby  \\r\\nDon't cry, bab...  \n",
       "4997  I break down, fear is sinking in  \\r\\nThe cold...  \n",
       "4998  It's four in the morning, the end of December ...  \n",
       "4999  They got nothing on me anymore,  \\r\\nThey got ...  "
      ]
     },
     "execution_count": 73,
     "metadata": {},
     "output_type": "execute_result"
    }
   ],
   "source": [
    "df.tail(5)"
   ]
  },
  {
   "cell_type": "code",
   "execution_count": 74,
   "id": "6d9d86bb-fe16-4c5b-830f-f8035393be92",
   "metadata": {},
   "outputs": [
    {
     "data": {
      "text/plain": [
       "artist    0\n",
       "song      0\n",
       "text      0\n",
       "dtype: int64"
      ]
     },
     "execution_count": 74,
     "metadata": {},
     "output_type": "execute_result"
    }
   ],
   "source": [
    "df.isnull().sum()"
   ]
  },
  {
   "cell_type": "code",
   "execution_count": 75,
   "id": "154340d0-e48e-49bc-835b-189ccf50c433",
   "metadata": {},
   "outputs": [
    {
     "data": {
      "text/plain": [
       "\"I AM A SONG  \\r\\n  \\r\\nI'm a song and I've waited so long  \\r\\nFor someone to come and sing me  \\r\\nI got a rhyme that I've had for some time  \\r\\nNobody wants to sing me  \\r\\n  \\r\\nLet me show, the world, that I'm, not through  \\r\\nLet me touch, your heart, the way I used to do  \\r\\n  \\r\\nSing me, sing me, now I got a song to be sung  \\r\\nSing me, sing me, roll me around on your tongue  \\r\\n  \\r\\nI got sunshine, I got a message to shout  \\r\\nSing me, sing me, won't someone please let me out  \\r\\n  \\r\\nCould I make you smile if I came back in style?  \\r\\nTell me would you want to sing me?  \\r\\nDon't say I'm gone, never more to live on  \\r\\nSomebody's got to sing me  \\r\\n  \\r\\nLet me fill , the air, with my, old song  \\r\\nIf I let, you down, tell me where did I go wrong  \\r\\n  \\r\\nSing me, sing me, I got a song to be sung (yes I do)  \\r\\nSing me, sing me, roll me around on your tongue  \\r\\n  \\r\\nI got sunshine, I got a message to shout  \\r\\nSing me, sing me, won't someone please let me out  \\r\\n  \\r\\nI got music, I will share  \\r\\nI got music, now somebody cares, cares\\r\\n\\r\\n\""
      ]
     },
     "execution_count": 75,
     "metadata": {},
     "output_type": "execute_result"
    }
   ],
   "source": [
    "df['text'][0]"
   ]
  },
  {
   "cell_type": "code",
   "execution_count": 76,
   "id": "d8255ffb-a711-4066-a17d-3b3408b3feeb",
   "metadata": {},
   "outputs": [
    {
     "data": {
      "text/plain": [
       "(5000, 3)"
      ]
     },
     "execution_count": 76,
     "metadata": {},
     "output_type": "execute_result"
    }
   ],
   "source": [
    "df.shape\n"
   ]
  },
  {
   "cell_type": "markdown",
   "id": "9c1be30e-74f4-437b-a2d2-9e9d9b276879",
   "metadata": {},
   "source": [
    "Text Cleaning/Text Processing"
   ]
  },
  {
   "cell_type": "code",
   "execution_count": 77,
   "id": "f3678b5b-e46c-4e07-a999-58d927b57fb7",
   "metadata": {},
   "outputs": [
    {
     "data": {
      "text/plain": [
       "0       i am a song  \\r   \\r i'm a song and i've waite...\n",
       "1       i gotta take this moment  \\r just to push you ...\n",
       "2       and through all alex's wondrous  \\r childhood ...\n",
       "3       'there's a place for us, somewhere a time and ...\n",
       "4       you tell me that it's over  \\r i'm just someon...\n",
       "                              ...                        \n",
       "4995    i'm looking to beat hell, looks like i've got ...\n",
       "4996    don't cry, don't cry, baby  \\r don't cry, baby...\n",
       "4997    i break down, fear is sinking in  \\r the cold ...\n",
       "4998    it's four in the morning, the end of december ...\n",
       "4999    they got nothing on me anymore,  \\r they got n...\n",
       "Name: text, Length: 5000, dtype: object"
      ]
     },
     "execution_count": 77,
     "metadata": {},
     "output_type": "execute_result"
    }
   ],
   "source": [
    "df['text'].str.lower().replace(r'\\w\\s','').replace(r'\\n',' ',regex=True)"
   ]
  },
  {
   "cell_type": "code",
   "execution_count": 78,
   "id": "dd0616a6-ab6e-43c6-af07-2bca7b60a0a3",
   "metadata": {},
   "outputs": [],
   "source": [
    "import nltk\n",
    "from nltk.stem.porter import PorterStemmer"
   ]
  },
  {
   "cell_type": "code",
   "execution_count": 79,
   "id": "0247d92d-9d98-47ee-8f1c-ecae93b8f9e9",
   "metadata": {},
   "outputs": [],
   "source": [
    "stemmer = PorterStemmer()"
   ]
  },
  {
   "cell_type": "code",
   "execution_count": 80,
   "id": "73895ce9-0ed3-49f8-a1a0-816bc808e63f",
   "metadata": {},
   "outputs": [
    {
     "name": "stderr",
     "output_type": "stream",
     "text": [
      "[nltk_data] Downloading package punkt to\n",
      "[nltk_data]     /Users/avantikagupta/nltk_data...\n",
      "[nltk_data]   Package punkt is already up-to-date!\n"
     ]
    },
    {
     "data": {
      "text/plain": [
       "True"
      ]
     },
     "execution_count": 80,
     "metadata": {},
     "output_type": "execute_result"
    }
   ],
   "source": [
    "import nltk\n",
    "nltk.download('punkt')\n"
   ]
  },
  {
   "cell_type": "code",
   "execution_count": 81,
   "id": "bf245472-7061-41cf-b038-b68ee56c3d29",
   "metadata": {},
   "outputs": [
    {
     "name": "stdout",
     "output_type": "stream",
     "text": [
      "you are beauti , beauti\n"
     ]
    }
   ],
   "source": [
    "from nltk.tokenize import TreebankWordTokenizer\n",
    "from nltk.stem.porter import PorterStemmer\n",
    "\n",
    "stemmer = PorterStemmer()\n",
    "tokenizer = TreebankWordTokenizer()\n",
    "\n",
    "def token(txt):\n",
    "    tokens = tokenizer.tokenize(txt)\n",
    "    a = [stemmer.stem(w) for w in tokens]\n",
    "    return \" \".join(a)\n",
    "\n",
    "print(token(\"you are beautiful, beauty\"))\n"
   ]
  },
  {
   "cell_type": "code",
   "execution_count": 82,
   "id": "0544d109-44ad-4e2b-829d-e266a8d259e3",
   "metadata": {},
   "outputs": [
    {
     "data": {
      "text/plain": [
       "0       i am a song i 'm a song and i 've wait so long...\n",
       "1       i got ta take thi moment just to push you down...\n",
       "2       and through all alex 's wondrou childhood he w...\n",
       "3       'there 's a place for us , somewher a time and...\n",
       "4       you tell me that it 's over i 'm just someon y...\n",
       "                              ...                        \n",
       "4995    i 'm look to beat hell , look like i 've got t...\n",
       "4996    do n't cri , do n't cri , babi do n't cri , ba...\n",
       "4997    i break down , fear is sink in the cold come ,...\n",
       "4998    it 's four in the morn , the end of decemb i '...\n",
       "4999    they got noth on me anymor , they got noth on ...\n",
       "Name: text, Length: 5000, dtype: object"
      ]
     },
     "execution_count": 82,
     "metadata": {},
     "output_type": "execute_result"
    }
   ],
   "source": [
    "df['text'].apply(lambda x: token(x))"
   ]
  },
  {
   "cell_type": "code",
   "execution_count": 83,
   "id": "656e28ed-fa28-43cc-bd90-208290bf283a",
   "metadata": {},
   "outputs": [],
   "source": [
    "from sklearn.feature_extraction.text import TfidfVectorizer\n",
    "from sklearn.metrics.pairwise import cosine_similarity"
   ]
  },
  {
   "cell_type": "code",
   "execution_count": 84,
   "id": "9a577a89-5555-49cb-b61e-2ece4e457aa0",
   "metadata": {},
   "outputs": [],
   "source": [
    "tfid=TfidfVectorizer(analyzer='word', stop_words='english')"
   ]
  },
  {
   "cell_type": "code",
   "execution_count": 85,
   "id": "2efe25fa-a24e-4c11-89a2-6ab7ea188451",
   "metadata": {},
   "outputs": [],
   "source": [
    "matrix=tfid.fit_transform(df['text'])"
   ]
  },
  {
   "cell_type": "code",
   "execution_count": 86,
   "id": "40552d85-048b-4074-adac-248419099b6d",
   "metadata": {},
   "outputs": [],
   "source": [
    "similar=cosine_similarity(matrix)"
   ]
  },
  {
   "cell_type": "code",
   "execution_count": 87,
   "id": "f83aaf46-e5c1-4e99-b0ae-ec4d07a4411d",
   "metadata": {},
   "outputs": [
    {
     "data": {
      "text/plain": [
       "array([1.00000000e+00, 8.84898057e-04, 0.00000000e+00, ...,\n",
       "       1.38536638e-02, 3.24820832e-02, 3.16014513e-01], shape=(5000,))"
      ]
     },
     "execution_count": 87,
     "metadata": {},
     "output_type": "execute_result"
    }
   ],
   "source": [
    "similar[0]"
   ]
  },
  {
   "cell_type": "code",
   "execution_count": 89,
   "id": "3499554b-30e5-4e57-abc5-1bf8ac3daece",
   "metadata": {},
   "outputs": [
    {
     "data": {
      "text/plain": [
       "np.int64(4997)"
      ]
     },
     "execution_count": 89,
     "metadata": {},
     "output_type": "execute_result"
    }
   ],
   "source": [
    "df[df['song']=='Not Alone'].index[0]"
   ]
  },
  {
   "cell_type": "markdown",
   "id": "b3d58a5c-4620-4383-91ee-28305f0cf2a6",
   "metadata": {},
   "source": [
    "Recommender Function"
   ]
  },
  {
   "cell_type": "code",
   "execution_count": 92,
   "id": "59592c78-9426-4793-96cc-7606fdfd595a",
   "metadata": {},
   "outputs": [],
   "source": [
    "def recommender(song_name):\n",
    "    idx= df[df['song']==song_name].index[0]\n",
    "    distance=sorted(list(enumerate(similar[idx])), reverse=True, key=lambda x:x[1])\n",
    "    song=[]\n",
    "    for s_id in distance[1:20]:\n",
    "        song.append(df.iloc[s_id[0]].song)\n",
    "    return song"
   ]
  },
  {
   "cell_type": "code",
   "execution_count": 93,
   "id": "880291c7-d775-4a48-aba5-c0039497c10e",
   "metadata": {},
   "outputs": [
    {
     "data": {
      "text/plain": [
       "['Giving In',\n",
       " 'Almost Home',\n",
       " 'We Gotta Live Together',\n",
       " 'Home',\n",
       " 'Hammer And Nails',\n",
       " 'Something About Space Dude',\n",
       " 'Hiding My Heart',\n",
       " 'Pushing The Needle Too Far',\n",
       " 'No Place To Go But Home',\n",
       " 'Joan Of Arc',\n",
       " 'Just Another Love Song',\n",
       " 'Love Was Here',\n",
       " 'I Was Young When I Left Home',\n",
       " \"Maybe You're Right\",\n",
       " 'Busted Stuff',\n",
       " 'Closing Time',\n",
       " 'Leaving On A Jetplane',\n",
       " 'Take Me Home',\n",
       " 'Faith In Love']"
      ]
     },
     "execution_count": 93,
     "metadata": {},
     "output_type": "execute_result"
    }
   ],
   "source": [
    "recommender(\"Not Alone\")"
   ]
  },
  {
   "cell_type": "code",
   "execution_count": 94,
   "id": "cc20c7cc-59b7-43d2-bcbd-b2b458f3ea0f",
   "metadata": {},
   "outputs": [],
   "source": [
    "import pickle"
   ]
  },
  {
   "cell_type": "code",
   "execution_count": 97,
   "id": "667ba4fa-8699-4485-bbdf-6cbf80dde63d",
   "metadata": {},
   "outputs": [],
   "source": [
    "pickle.dump(similar,open(\"similarity\", \"wb\"))"
   ]
  },
  {
   "cell_type": "code",
   "execution_count": 98,
   "id": "dd69577a-23db-4876-b246-3ce497134c19",
   "metadata": {},
   "outputs": [],
   "source": [
    "pickle.dump(df, open(\"df\", \"wb\"))"
   ]
  },
  {
   "cell_type": "code",
   "execution_count": null,
   "id": "eb0d72e2-8980-459b-abbd-c0685972f409",
   "metadata": {},
   "outputs": [],
   "source": []
  }
 ],
 "metadata": {
  "kernelspec": {
   "display_name": "Python (myenv)",
   "language": "python",
   "name": "myenv"
  },
  "language_info": {
   "codemirror_mode": {
    "name": "ipython",
    "version": 3
   },
   "file_extension": ".py",
   "mimetype": "text/x-python",
   "name": "python",
   "nbconvert_exporter": "python",
   "pygments_lexer": "ipython3",
   "version": "3.13.3"
  }
 },
 "nbformat": 4,
 "nbformat_minor": 5
}
