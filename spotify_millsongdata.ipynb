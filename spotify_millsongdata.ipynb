{
 "cells": [
  {
   "cell_type": "code",
   "execution_count": 2,
   "id": "171151e3-2b77-4a83-b589-7094ac871b8f",
   "metadata": {},
   "outputs": [],
   "source": [
    "import pandas as pd"
   ]
  },
  {
   "cell_type": "code",
   "execution_count": 4,
   "id": "627243db-72e8-417b-b5b6-d1417d1bf488",
   "metadata": {},
   "outputs": [],
   "source": [
    "df=pd.read_csv(\"/Users/avantikagupta/spotify_recommender_system /spotify_millsongdata.csv\")\n"
   ]
  },
  {
   "cell_type": "code",
   "execution_count": 5,
   "id": "30913250-6f26-4003-8812-f67afa5a3c8b",
   "metadata": {},
   "outputs": [],
   "source": [
    "df=df.sample(5000).drop('link',axis=1).reset_index(drop=True)"
   ]
  },
  {
   "cell_type": "code",
   "execution_count": 6,
   "id": "715b9d2c-383f-4848-b276-7642b6124d40",
   "metadata": {},
   "outputs": [
    {
     "data": {
      "text/html": [
       "<div>\n",
       "<style scoped>\n",
       "    .dataframe tbody tr th:only-of-type {\n",
       "        vertical-align: middle;\n",
       "    }\n",
       "\n",
       "    .dataframe tbody tr th {\n",
       "        vertical-align: top;\n",
       "    }\n",
       "\n",
       "    .dataframe thead th {\n",
       "        text-align: right;\n",
       "    }\n",
       "</style>\n",
       "<table border=\"1\" class=\"dataframe\">\n",
       "  <thead>\n",
       "    <tr style=\"text-align: right;\">\n",
       "      <th></th>\n",
       "      <th>artist</th>\n",
       "      <th>song</th>\n",
       "      <th>text</th>\n",
       "    </tr>\n",
       "  </thead>\n",
       "  <tbody>\n",
       "    <tr>\n",
       "      <th>0</th>\n",
       "      <td>Def Leppard</td>\n",
       "      <td>Glad I'm Alive</td>\n",
       "      <td>Hello and welcome my friend  \\r\\nIt's good to ...</td>\n",
       "    </tr>\n",
       "    <tr>\n",
       "      <th>1</th>\n",
       "      <td>Chicago</td>\n",
       "      <td>Long Lost Friend</td>\n",
       "      <td>The moment that we met  \\r\\nThere was somethin...</td>\n",
       "    </tr>\n",
       "    <tr>\n",
       "      <th>2</th>\n",
       "      <td>Pat Benatar</td>\n",
       "      <td>Purgatory</td>\n",
       "      <td>We will be the forgotten ones  \\r\\nThey will s...</td>\n",
       "    </tr>\n",
       "    <tr>\n",
       "      <th>3</th>\n",
       "      <td>Imperials</td>\n",
       "      <td>Praise The Lord</td>\n",
       "      <td>When you're up against a struggle that shatter...</td>\n",
       "    </tr>\n",
       "    <tr>\n",
       "      <th>4</th>\n",
       "      <td>Luther Vandross</td>\n",
       "      <td>Hustle</td>\n",
       "      <td>I love when the day is new  \\r\\nWe get to star...</td>\n",
       "    </tr>\n",
       "  </tbody>\n",
       "</table>\n",
       "</div>"
      ],
      "text/plain": [
       "            artist              song  \\\n",
       "0      Def Leppard    Glad I'm Alive   \n",
       "1          Chicago  Long Lost Friend   \n",
       "2      Pat Benatar         Purgatory   \n",
       "3        Imperials   Praise The Lord   \n",
       "4  Luther Vandross            Hustle   \n",
       "\n",
       "                                                text  \n",
       "0  Hello and welcome my friend  \\r\\nIt's good to ...  \n",
       "1  The moment that we met  \\r\\nThere was somethin...  \n",
       "2  We will be the forgotten ones  \\r\\nThey will s...  \n",
       "3  When you're up against a struggle that shatter...  \n",
       "4  I love when the day is new  \\r\\nWe get to star...  "
      ]
     },
     "execution_count": 6,
     "metadata": {},
     "output_type": "execute_result"
    }
   ],
   "source": [
    "df.head(5)"
   ]
  },
  {
   "cell_type": "code",
   "execution_count": 7,
   "id": "d071c49b-59d1-4df5-97c9-cd7fdcf26272",
   "metadata": {},
   "outputs": [
    {
     "data": {
      "text/html": [
       "<div>\n",
       "<style scoped>\n",
       "    .dataframe tbody tr th:only-of-type {\n",
       "        vertical-align: middle;\n",
       "    }\n",
       "\n",
       "    .dataframe tbody tr th {\n",
       "        vertical-align: top;\n",
       "    }\n",
       "\n",
       "    .dataframe thead th {\n",
       "        text-align: right;\n",
       "    }\n",
       "</style>\n",
       "<table border=\"1\" class=\"dataframe\">\n",
       "  <thead>\n",
       "    <tr style=\"text-align: right;\">\n",
       "      <th></th>\n",
       "      <th>artist</th>\n",
       "      <th>song</th>\n",
       "      <th>text</th>\n",
       "    </tr>\n",
       "  </thead>\n",
       "  <tbody>\n",
       "    <tr>\n",
       "      <th>4995</th>\n",
       "      <td>Beautiful South</td>\n",
       "      <td>My Book</td>\n",
       "      <td>This is my life and this is how it reads  \\r\\n...</td>\n",
       "    </tr>\n",
       "    <tr>\n",
       "      <th>4996</th>\n",
       "      <td>U2</td>\n",
       "      <td>If God Will Send His Angels</td>\n",
       "      <td>Nobody else here baby  \\r\\nNo one here to blam...</td>\n",
       "    </tr>\n",
       "    <tr>\n",
       "      <th>4997</th>\n",
       "      <td>Modern Talking</td>\n",
       "      <td>Ready For The Victory</td>\n",
       "      <td>Ready for the party, 10-9-8-7-6-5-4-3-2-1 go  ...</td>\n",
       "    </tr>\n",
       "    <tr>\n",
       "      <th>4998</th>\n",
       "      <td>Conway Twitty</td>\n",
       "      <td>Baby's Gone</td>\n",
       "      <td>Baby's Gone  \\r\\nMy hand is trembling  \\r\\nAs ...</td>\n",
       "    </tr>\n",
       "    <tr>\n",
       "      <th>4999</th>\n",
       "      <td>Linda Ronstadt</td>\n",
       "      <td>Heat Wave</td>\n",
       "      <td>Whenever I'm with him  \\r\\nSomething inside st...</td>\n",
       "    </tr>\n",
       "  </tbody>\n",
       "</table>\n",
       "</div>"
      ],
      "text/plain": [
       "               artist                         song  \\\n",
       "4995  Beautiful South                      My Book   \n",
       "4996               U2  If God Will Send His Angels   \n",
       "4997   Modern Talking        Ready For The Victory   \n",
       "4998    Conway Twitty                  Baby's Gone   \n",
       "4999   Linda Ronstadt                    Heat Wave   \n",
       "\n",
       "                                                   text  \n",
       "4995  This is my life and this is how it reads  \\r\\n...  \n",
       "4996  Nobody else here baby  \\r\\nNo one here to blam...  \n",
       "4997  Ready for the party, 10-9-8-7-6-5-4-3-2-1 go  ...  \n",
       "4998  Baby's Gone  \\r\\nMy hand is trembling  \\r\\nAs ...  \n",
       "4999  Whenever I'm with him  \\r\\nSomething inside st...  "
      ]
     },
     "execution_count": 7,
     "metadata": {},
     "output_type": "execute_result"
    }
   ],
   "source": [
    "df.tail(5)"
   ]
  },
  {
   "cell_type": "code",
   "execution_count": 8,
   "id": "6d9d86bb-fe16-4c5b-830f-f8035393be92",
   "metadata": {},
   "outputs": [
    {
     "data": {
      "text/plain": [
       "artist    0\n",
       "song      0\n",
       "text      0\n",
       "dtype: int64"
      ]
     },
     "execution_count": 8,
     "metadata": {},
     "output_type": "execute_result"
    }
   ],
   "source": [
    "df.isnull().sum()"
   ]
  },
  {
   "cell_type": "code",
   "execution_count": 9,
   "id": "154340d0-e48e-49bc-835b-189ccf50c433",
   "metadata": {},
   "outputs": [
    {
     "data": {
      "text/plain": [
       "\"Hello and welcome my friend  \\r\\nIt's good to see you again  \\r\\nDo you know anything new  \\r\\nTell me is this really you  \\r\\nHey, what's the story in LA  \\r\\nI haven't been there today  \\r\\nIt's time we went for a ride  \\r\\nCome on and step right inside  \\r\\n  \\r\\nToo many people have waited  \\r\\nToo many problems created  \\r\\nToo many jitterbugs not enough jive  \\r\\nI'm tired of sitting here waiting  \\r\\nWe should be out there creating  \\r\\nIt's times like this that I'm glad I'm alive  \\r\\n  \\r\\nDarkness our sole destination  \\r\\nDaylight our only intention  \\r\\nWhite lightning brightens the sky  \\r\\nCan't tell we're flying so high  \\r\\nRest now and don't be afraid  \\r\\nCan't you see we've got it made  \\r\\nJust cause I'm not going far  \\r\\nThat doesn't mean that we can't reach the stars  \\r\\n  \\r\\nToo many people have waited  \\r\\nToo many problems created  \\r\\nToo many jitterbugs not enough jive  \\r\\nI'm tired of sitting here waiting  \\r\\nWe should be out there creating  \\r\\nIt's times like this that I'm glad I'm alive  \\r\\n  \\r\\nToo many people have waited  \\r\\nToo many problems created  \\r\\nToo many jitterbugs not enough jive  \\r\\nI'm tired of sitting here waiting  \\r\\nWe should be out there creating  \\r\\nIt's times like this that I'm glad I'm alive  \\r\\n  \\r\\nSad story that look in your eyes  \\r\\nBreak out before it's too late  \\r\\nNow come and lay down by my side  \\r\\nLet all the thoughts slip away  \\r\\n  \\r\\nToo many people have waited  \\r\\nToo many problems created  \\r\\nToo many jitterbugs not enough jive  \\r\\nI'm tired of sitting here waiting  \\r\\nWe should be out there creating  \\r\\nIt's times like this that I'm glad I'm alive  \\r\\nI'm alive  \\r\\nAlive\\r\\n\\r\\n\""
      ]
     },
     "execution_count": 9,
     "metadata": {},
     "output_type": "execute_result"
    }
   ],
   "source": [
    "df['text'][0]"
   ]
  },
  {
   "cell_type": "code",
   "execution_count": 10,
   "id": "d8255ffb-a711-4066-a17d-3b3408b3feeb",
   "metadata": {},
   "outputs": [
    {
     "data": {
      "text/plain": [
       "(5000, 3)"
      ]
     },
     "execution_count": 10,
     "metadata": {},
     "output_type": "execute_result"
    }
   ],
   "source": [
    "df.shape\n"
   ]
  },
  {
   "cell_type": "markdown",
   "id": "9c1be30e-74f4-437b-a2d2-9e9d9b276879",
   "metadata": {},
   "source": [
    "Text Cleaning/Text Processing"
   ]
  },
  {
   "cell_type": "code",
   "execution_count": 11,
   "id": "f3678b5b-e46c-4e07-a999-58d927b57fb7",
   "metadata": {},
   "outputs": [
    {
     "data": {
      "text/plain": [
       "0       hello and welcome my friend  \\r it's good to s...\n",
       "1       the moment that we met  \\r there was something...\n",
       "2       we will be the forgotten ones  \\r they will sh...\n",
       "3       when you're up against a struggle that shatter...\n",
       "4       i love when the day is new  \\r we get to start...\n",
       "                              ...                        \n",
       "4995    this is my life and this is how it reads  \\r f...\n",
       "4996    nobody else here baby  \\r no one here to blame...\n",
       "4997    ready for the party, 10-9-8-7-6-5-4-3-2-1 go  ...\n",
       "4998    baby's gone  \\r my hand is trembling  \\r as th...\n",
       "4999    whenever i'm with him  \\r something inside sta...\n",
       "Name: text, Length: 5000, dtype: object"
      ]
     },
     "execution_count": 11,
     "metadata": {},
     "output_type": "execute_result"
    }
   ],
   "source": [
    "df['text'].str.lower().replace(r'\\w\\s','').replace(r'\\n',' ',regex=True)"
   ]
  },
  {
   "cell_type": "code",
   "execution_count": 12,
   "id": "dd0616a6-ab6e-43c6-af07-2bca7b60a0a3",
   "metadata": {},
   "outputs": [],
   "source": [
    "import nltk\n",
    "from nltk.stem.porter import PorterStemmer"
   ]
  },
  {
   "cell_type": "code",
   "execution_count": 13,
   "id": "0247d92d-9d98-47ee-8f1c-ecae93b8f9e9",
   "metadata": {},
   "outputs": [],
   "source": [
    "stemmer = PorterStemmer()"
   ]
  },
  {
   "cell_type": "code",
   "execution_count": 14,
   "id": "73895ce9-0ed3-49f8-a1a0-816bc808e63f",
   "metadata": {},
   "outputs": [
    {
     "name": "stderr",
     "output_type": "stream",
     "text": [
      "[nltk_data] Downloading package punkt to\n",
      "[nltk_data]     /Users/avantikagupta/nltk_data...\n",
      "[nltk_data]   Package punkt is already up-to-date!\n"
     ]
    },
    {
     "data": {
      "text/plain": [
       "True"
      ]
     },
     "execution_count": 14,
     "metadata": {},
     "output_type": "execute_result"
    }
   ],
   "source": [
    "import nltk\n",
    "nltk.download('punkt')\n"
   ]
  },
  {
   "cell_type": "code",
   "execution_count": 15,
   "id": "bf245472-7061-41cf-b038-b68ee56c3d29",
   "metadata": {},
   "outputs": [
    {
     "name": "stdout",
     "output_type": "stream",
     "text": [
      "you are beauti , beauti\n"
     ]
    }
   ],
   "source": [
    "from nltk.tokenize import TreebankWordTokenizer\n",
    "from nltk.stem.porter import PorterStemmer\n",
    "\n",
    "stemmer = PorterStemmer()\n",
    "tokenizer = TreebankWordTokenizer()\n",
    "\n",
    "def token(txt):\n",
    "    tokens = tokenizer.tokenize(txt)\n",
    "    a = [stemmer.stem(w) for w in tokens]\n",
    "    return \" \".join(a)\n",
    "\n",
    "print(token(\"you are beautiful, beauty\"))\n"
   ]
  },
  {
   "cell_type": "code",
   "execution_count": 16,
   "id": "0544d109-44ad-4e2b-829d-e266a8d259e3",
   "metadata": {},
   "outputs": [
    {
     "data": {
      "text/plain": [
       "0       hello and welcom my friend it 's good to see y...\n",
       "1       the moment that we met there wa someth so fami...\n",
       "2       we will be the forgotten one they will shake t...\n",
       "3       when you 're up against a struggl that shatter...\n",
       "4       i love when the day is new we get to start all...\n",
       "                              ...                        \n",
       "4995    thi is my life and thi is how it read for ever...\n",
       "4996    nobodi els here babi no one here to blame no o...\n",
       "4997    readi for the parti , 10-9-8-7-6-5-4-3-2-1 go ...\n",
       "4998    babi 's gone my hand is trembl as the key unlo...\n",
       "4999    whenev i 'm with him someth insid start to bur...\n",
       "Name: text, Length: 5000, dtype: object"
      ]
     },
     "execution_count": 16,
     "metadata": {},
     "output_type": "execute_result"
    }
   ],
   "source": [
    "df['text'].apply(lambda x: token(x))"
   ]
  },
  {
   "cell_type": "code",
   "execution_count": 19,
   "id": "656e28ed-fa28-43cc-bd90-208290bf283a",
   "metadata": {},
   "outputs": [],
   "source": [
    "from sklearn.feature_extraction.text import TfidfVectorizer\n",
    "from sklearn.metrics.pairwise import cosine_similarity"
   ]
  },
  {
   "cell_type": "code",
   "execution_count": 20,
   "id": "9a577a89-5555-49cb-b61e-2ece4e457aa0",
   "metadata": {},
   "outputs": [],
   "source": [
    "tfid=TfidfVectorizer(analyzer='word', stop_words='english')"
   ]
  },
  {
   "cell_type": "code",
   "execution_count": 21,
   "id": "2efe25fa-a24e-4c11-89a2-6ab7ea188451",
   "metadata": {},
   "outputs": [],
   "source": [
    "matrix=tfid.fit_transform(df['text'])"
   ]
  },
  {
   "cell_type": "code",
   "execution_count": 22,
   "id": "40552d85-048b-4074-adac-248419099b6d",
   "metadata": {},
   "outputs": [],
   "source": [
    "similar=cosine_similarity(matrix)"
   ]
  },
  {
   "cell_type": "code",
   "execution_count": 23,
   "id": "f83aaf46-e5c1-4e99-b0ae-ec4d07a4411d",
   "metadata": {},
   "outputs": [
    {
     "data": {
      "text/plain": [
       "array([1.        , 0.05202528, 0.04704923, ..., 0.04615934, 0.01929627,\n",
       "       0.01399306], shape=(5000,))"
      ]
     },
     "execution_count": 23,
     "metadata": {},
     "output_type": "execute_result"
    }
   ],
   "source": [
    "similar[0]"
   ]
  },
  {
   "cell_type": "code",
   "execution_count": 25,
   "id": "3499554b-30e5-4e57-abc5-1bf8ac3daece",
   "metadata": {},
   "outputs": [
    {
     "data": {
      "text/plain": [
       "np.int64(4995)"
      ]
     },
     "execution_count": 25,
     "metadata": {},
     "output_type": "execute_result"
    }
   ],
   "source": [
    "df[df['song']=='My Book'].index[0]"
   ]
  },
  {
   "cell_type": "markdown",
   "id": "b3d58a5c-4620-4383-91ee-28305f0cf2a6",
   "metadata": {},
   "source": [
    "Recommender Function"
   ]
  },
  {
   "cell_type": "code",
   "execution_count": 26,
   "id": "59592c78-9426-4793-96cc-7606fdfd595a",
   "metadata": {},
   "outputs": [],
   "source": [
    "def recommender(song_name):\n",
    "    idx= df[df['song']==song_name].index[0]\n",
    "    distance=sorted(list(enumerate(similar[idx])), reverse=True, key=lambda x:x[1])\n",
    "    song=[]\n",
    "    for s_id in distance[1:20]:\n",
    "        song.append(df.iloc[s_id[0]].song)\n",
    "    return song"
   ]
  },
  {
   "cell_type": "code",
   "execution_count": 27,
   "id": "880291c7-d775-4a48-aba5-c0039497c10e",
   "metadata": {},
   "outputs": [
    {
     "data": {
      "text/plain": [
       "['Cold Hearted',\n",
       " 'Tonight',\n",
       " 'Fine Fine Fine',\n",
       " 'A Fine Romance',\n",
       " \"You're Ever So Inviting\",\n",
       " 'So Fine',\n",
       " 'Stay',\n",
       " 'Me, Myself, And I',\n",
       " 'Strange Design',\n",
       " \"I'm Gonna Start Today\",\n",
       " 'Terry',\n",
       " \"Death's Door\",\n",
       " 'Shamrock Diaries',\n",
       " 'Bluebird Island',\n",
       " 'My Arena',\n",
       " 'Half As Much',\n",
       " 'I Know Him So Well',\n",
       " \"Six O'clock News\",\n",
       " \"It's Only Life\"]"
      ]
     },
     "execution_count": 27,
     "metadata": {},
     "output_type": "execute_result"
    }
   ],
   "source": [
    "recommender(\"My Book\")"
   ]
  },
  {
   "cell_type": "code",
   "execution_count": 32,
   "id": "cc20c7cc-59b7-43d2-bcbd-b2b458f3ea0f",
   "metadata": {},
   "outputs": [],
   "source": [
    "import pickle\n",
    "\n",
    "# Save similarity matrix\n",
    "pickle.dump(similar, open(\"similarity.pkl\", \"wb\"))\n",
    "\n",
    "# Save dataframe\n",
    "pickle.dump(df, open(\"df.pkl\", \"wb\"))\n"
   ]
  },
  {
   "cell_type": "code",
   "execution_count": 34,
   "id": "667ba4fa-8699-4485-bbdf-6cbf80dde63d",
   "metadata": {},
   "outputs": [
    {
     "data": {
      "text/plain": [
       "['algotrading_env',\n",
       " 'Avantika Gupta.pdf',\n",
       " 'Discord.dmg',\n",
       " '.zshrc.save',\n",
       " 'c++ programs',\n",
       " '.config',\n",
       " 'Music',\n",
       " 'Miniconda3-latest-MacOSX-arm64.sh',\n",
       " '.hello.java.swp',\n",
       " 'flask maybe',\n",
       " 'ISL-Recognition-System',\n",
       " '.cursor',\n",
       " 'jcef_35272.log',\n",
       " 'PythonPiano',\n",
       " 'run-through-cmd-line.py',\n",
       " '.zprofile.pysave',\n",
       " 'pacman',\n",
       " 'similarity.pkl',\n",
       " '.condarc',\n",
       " 'medical 2024.pdf',\n",
       " 'c++',\n",
       " 'rohan',\n",
       " 'Untitled1.ipynb',\n",
       " \"cursor-complain'.mov\",\n",
       " '.DS_Store',\n",
       " 'helper_functions.py',\n",
       " 'nltk_data',\n",
       " 'jupyter.tar.gz',\n",
       " 'Discord (2).dmg',\n",
       " 'ecommerce',\n",
       " 'get-pip.py',\n",
       " 'mysql.dmg',\n",
       " 'requirements.txt',\n",
       " '.CFUserTextEncoding',\n",
       " '.xonshrc',\n",
       " 'python',\n",
       " 'latest.code-workspace',\n",
       " 'locofy',\n",
       " 'movie recom',\n",
       " 'Main Summary-20250311T105458Z-001.zip',\n",
       " 'images',\n",
       " '.bashrc',\n",
       " 'Untitled.ipynb',\n",
       " '.zshrc',\n",
       " 'spotify_recommender_system ',\n",
       " '2024 code',\n",
       " '.streamlit',\n",
       " '.local',\n",
       " '.psql_history',\n",
       " '.mongodb',\n",
       " 'Person.class',\n",
       " 'Pictures',\n",
       " 'LeaveManagementSystemAvantika',\n",
       " 'request.csv',\n",
       " 'googleresume.jpeg',\n",
       " 'pacman_game',\n",
       " 'S.class',\n",
       " '.zprofile',\n",
       " '.nvm',\n",
       " '.sts4',\n",
       " 'crop',\n",
       " 'similarity',\n",
       " 'Postman',\n",
       " '12:12:24 before backend',\n",
       " 'Music Recommender System',\n",
       " 'output',\n",
       " 'code',\n",
       " 'public class.java',\n",
       " '.zsh_history',\n",
       " 'Untitled2.ipynb',\n",
       " 'java',\n",
       " 'Todo-List-Application-Java-master',\n",
       " '.ipython',\n",
       " 'Desktop',\n",
       " 'hello.html',\n",
       " 'Library',\n",
       " 'Project report us.pdf',\n",
       " '.matplotlib',\n",
       " 'jcef_78665.log',\n",
       " 'AppCleaner.zip',\n",
       " 'reverse.cpp',\n",
       " '__pycache__',\n",
       " '.lesshst',\n",
       " 'S$1.class',\n",
       " 'Todo-List-Application-Java-master.zip',\n",
       " 'jupyter-1.0.0',\n",
       " 'Music_Recommender_System_final',\n",
       " 'online assment',\n",
       " 'Final year project report 9th May .pdf',\n",
       " 'algo_trading_py311',\n",
       " 'README.md',\n",
       " '.node_repl_history',\n",
       " 'rock-papaer-scissors',\n",
       " '6000.1.4f1',\n",
       " 'project',\n",
       " 'untitled.txt',\n",
       " 'tensorflow_linear_regression.py.save',\n",
       " 'S.java',\n",
       " 'Public',\n",
       " 'Person.java',\n",
       " 'c++ websphere',\n",
       " 'package-lock.json',\n",
       " 'venv39',\n",
       " 'pr-review-bot',\n",
       " '.zshenv',\n",
       " '.idlerc',\n",
       " 'train-model.ipynb',\n",
       " '.tcshrc',\n",
       " 'Phishing-Website-Detection-by-Machine-Learning-Techniques',\n",
       " 'Final year project report 9th May .docx',\n",
       " 'main.java',\n",
       " 'np_array_0.npy',\n",
       " 'LeaveManagementSystem',\n",
       " '.ssh',\n",
       " 'Movies',\n",
       " 'Applications',\n",
       " '.dbshell',\n",
       " '.gradle',\n",
       " 'app.py',\n",
       " 'discord-calculator-bot',\n",
       " '.Trash',\n",
       " 'df.pkl',\n",
       " '.ipynb_checkpoints',\n",
       " 'blochain pdf file.pdf',\n",
       " 'my-login-page',\n",
       " '.jupyter',\n",
       " '.zcompdump',\n",
       " '.keras',\n",
       " 'spotify_millsongdata.ipynb',\n",
       " 'anushkaa 13:12:24',\n",
       " 'LeaveManagementSystem old',\n",
       " '.npm',\n",
       " 'isl_env',\n",
       " 'Documents',\n",
       " 'venv',\n",
       " 'main.class',\n",
       " 'Music_Recommender_System',\n",
       " 'AppCleaner.app',\n",
       " 'isl-env',\n",
       " 'Algorithmic_Trading_Assignment.ipynb',\n",
       " 'input-video\\\\input.mp4',\n",
       " 'myenv',\n",
       " 'LeaveManagementSystem2025',\n",
       " '.vscode',\n",
       " 'main.py',\n",
       " '.m2',\n",
       " '.cursor-tutor',\n",
       " 'GitHubDesktop-x64.zip',\n",
       " '.bash_profile',\n",
       " 'Discord (1).dmg',\n",
       " 'request1.csv',\n",
       " 'dklol.txt',\n",
       " 'music.ipynb',\n",
       " 'Downloads',\n",
       " '.python_history',\n",
       " '.cache',\n",
       " 'model.ipynb',\n",
       " '.gitconfig',\n",
       " '186479st4pe4vk.pdf',\n",
       " '.mongorc.js',\n",
       " '.ollama',\n",
       " 'To',\n",
       " '.viminfo',\n",
       " '.zsh_sessions',\n",
       " '.conda',\n",
       " 'python advert code',\n",
       " 'spotify.ipynb',\n",
       " 'crop copy']"
      ]
     },
     "execution_count": 34,
     "metadata": {},
     "output_type": "execute_result"
    }
   ],
   "source": [
    "import os\n",
    "os.listdir()\n"
   ]
  },
  {
   "cell_type": "code",
   "execution_count": 98,
   "id": "dd69577a-23db-4876-b246-3ce497134c19",
   "metadata": {},
   "outputs": [],
   "source": []
  },
  {
   "cell_type": "code",
   "execution_count": null,
   "id": "eb0d72e2-8980-459b-abbd-c0685972f409",
   "metadata": {},
   "outputs": [],
   "source": []
  },
  {
   "cell_type": "code",
   "execution_count": null,
   "id": "eed9bb63-5aaf-44ae-a016-8c92680f2341",
   "metadata": {},
   "outputs": [],
   "source": []
  }
 ],
 "metadata": {
  "kernelspec": {
   "display_name": "Python (myenv)",
   "language": "python",
   "name": "myenv"
  },
  "language_info": {
   "codemirror_mode": {
    "name": "ipython",
    "version": 3
   },
   "file_extension": ".py",
   "mimetype": "text/x-python",
   "name": "python",
   "nbconvert_exporter": "python",
   "pygments_lexer": "ipython3",
   "version": "3.13.3"
  }
 },
 "nbformat": 4,
 "nbformat_minor": 5
}
